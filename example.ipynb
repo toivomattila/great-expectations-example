{
 "cells": [
  {
   "cell_type": "markdown",
   "id": "3cfce30e",
   "metadata": {},
   "source": [
    "# Install packages\n",
    "Install packages by running either of the following commands:\n",
    "\n",
    "`pip install -r requirements.txt`\n",
    "\n",
    "`poetry install`"
   ]
  },
  {
   "cell_type": "markdown",
   "id": "8a86b521",
   "metadata": {},
   "source": [
    "# Initialize the GX project (optional)\n",
    "\n",
    "Create a new Great Expectations project if you want to store the project configurations\n",
    "This is optional but recommended\n",
    "\n",
    "Run the following command to initialize the GX project:\n",
    "\n",
    "`great_expectations init` "
   ]
  },
  {
   "cell_type": "markdown",
   "id": "bab5ede5",
   "metadata": {},
   "source": [
    "# Load configurations from a file"
   ]
  },
  {
   "cell_type": "code",
   "execution_count": 19,
   "id": "0d907ccf-9398-4da1-8e0f-61e5fb6d028f",
   "metadata": {},
   "outputs": [],
   "source": [
    "import great_expectations as gx"
   ]
  },
  {
   "cell_type": "code",
   "execution_count": 20,
   "id": "e138f378-6d82-4e38-acc0-9296c2fd4960",
   "metadata": {},
   "outputs": [],
   "source": [
    "context = gx.get_context()"
   ]
  },
  {
   "cell_type": "markdown",
   "id": "3272049b",
   "metadata": {},
   "source": [
    "# Connect to a data source"
   ]
  },
  {
   "cell_type": "code",
   "execution_count": 21,
   "id": "b214668b-82d4-4c79-9777-d1e5ac4b2de9",
   "metadata": {},
   "outputs": [],
   "source": [
    "datasource = context.sources.add_pandas(name=\"example datasource\")"
   ]
  },
  {
   "cell_type": "code",
   "execution_count": 22,
   "id": "6aa2d7f3-08ec-4957-9445-2f900929c67e",
   "metadata": {},
   "outputs": [],
   "source": [
    "asset = datasource.add_csv_asset(name=\"example asset\", filepath_or_buffer=\"data/example.csv\")"
   ]
  },
  {
   "cell_type": "markdown",
   "id": "1f99e0d3-ca39-4797-8af2-7dee229f404c",
   "metadata": {},
   "source": [
    "# Create an Expectation Suite"
   ]
  },
  {
   "cell_type": "code",
   "execution_count": 23,
   "id": "a323fc57-05b8-493b-b419-141912098aa5",
   "metadata": {},
   "outputs": [],
   "source": [
    "expectation_suite = context.add_or_update_expectation_suite(\"example expectation suite\")"
   ]
  },
  {
   "cell_type": "code",
   "execution_count": 24,
   "id": "9ac54a20-100e-45e3-9a22-39f2ea05366d",
   "metadata": {},
   "outputs": [],
   "source": [
    "validator = context.get_validator(\n",
    "    batch_request=asset.build_batch_request(),\n",
    "    expectation_suite=expectation_suite,\n",
    ")"
   ]
  },
  {
   "cell_type": "code",
   "execution_count": 25,
   "id": "88ee7629-e40d-4f1f-8581-83e805b0fec2",
   "metadata": {},
   "outputs": [
    {
     "data": {
      "application/vnd.jupyter.widget-view+json": {
       "model_id": "659c7c72f84a453fb3aeb67890510b7d",
       "version_major": 2,
       "version_minor": 0
      },
      "text/plain": [
       "Calculating Metrics:   0%|          | 0/1 [00:00<?, ?it/s]"
      ]
     },
     "metadata": {},
     "output_type": "display_data"
    },
    {
     "data": {
      "text/html": [
       "<div>\n",
       "<style scoped>\n",
       "    .dataframe tbody tr th:only-of-type {\n",
       "        vertical-align: middle;\n",
       "    }\n",
       "\n",
       "    .dataframe tbody tr th {\n",
       "        vertical-align: top;\n",
       "    }\n",
       "\n",
       "    .dataframe thead th {\n",
       "        text-align: right;\n",
       "    }\n",
       "</style>\n",
       "<table border=\"1\" class=\"dataframe\">\n",
       "  <thead>\n",
       "    <tr style=\"text-align: right;\">\n",
       "      <th></th>\n",
       "      <th>fruit</th>\n",
       "      <th>weight</th>\n",
       "      <th>price</th>\n",
       "    </tr>\n",
       "  </thead>\n",
       "  <tbody>\n",
       "    <tr>\n",
       "      <th>0</th>\n",
       "      <td>apple</td>\n",
       "      <td>100</td>\n",
       "      <td>100</td>\n",
       "    </tr>\n",
       "    <tr>\n",
       "      <th>1</th>\n",
       "      <td>banana</td>\n",
       "      <td>200</td>\n",
       "      <td>200</td>\n",
       "    </tr>\n",
       "    <tr>\n",
       "      <th>2</th>\n",
       "      <td>grapefruit</td>\n",
       "      <td>300</td>\n",
       "      <td>300</td>\n",
       "    </tr>\n",
       "  </tbody>\n",
       "</table>\n",
       "</div>"
      ],
      "text/plain": [
       "        fruit  weight  price\n",
       "0       apple     100    100\n",
       "1      banana     200    200\n",
       "2  grapefruit     300    300"
      ]
     },
     "execution_count": 25,
     "metadata": {},
     "output_type": "execute_result"
    }
   ],
   "source": [
    "validator.head()"
   ]
  },
  {
   "cell_type": "code",
   "execution_count": 26,
   "id": "93daeadd-a5b0-444a-9372-39ec37935224",
   "metadata": {},
   "outputs": [
    {
     "data": {
      "application/vnd.jupyter.widget-view+json": {
       "model_id": "ec9c3811203544a6ba4dadbe6423bd21",
       "version_major": 2,
       "version_minor": 0
      },
      "text/plain": [
       "Calculating Metrics:   0%|          | 0/1 [00:00<?, ?it/s]"
      ]
     },
     "metadata": {},
     "output_type": "display_data"
    },
    {
     "data": {
      "text/plain": [
       "{\n",
       "  \"success\": true,\n",
       "  \"result\": {\n",
       "    \"observed_value\": 3\n",
       "  },\n",
       "  \"meta\": {},\n",
       "  \"exception_info\": {\n",
       "    \"raised_exception\": false,\n",
       "    \"exception_traceback\": null,\n",
       "    \"exception_message\": null\n",
       "  }\n",
       "}"
      ]
     },
     "execution_count": 26,
     "metadata": {},
     "output_type": "execute_result"
    }
   ],
   "source": [
    "validator.expect_table_row_count_to_be_between(1, 100)"
   ]
  },
  {
   "cell_type": "code",
   "execution_count": 27,
   "id": "96d85bd7-1dcb-4efd-b167-a6252b90a5f7",
   "metadata": {},
   "outputs": [
    {
     "data": {
      "application/vnd.jupyter.widget-view+json": {
       "model_id": "4650a3eacde744ab8b6ee23e5cbfde0c",
       "version_major": 2,
       "version_minor": 0
      },
      "text/plain": [
       "Calculating Metrics:   0%|          | 0/8 [00:00<?, ?it/s]"
      ]
     },
     "metadata": {},
     "output_type": "display_data"
    },
    {
     "data": {
      "text/plain": [
       "{\n",
       "  \"success\": true,\n",
       "  \"result\": {\n",
       "    \"element_count\": 3,\n",
       "    \"unexpected_count\": 0,\n",
       "    \"unexpected_percent\": 0.0,\n",
       "    \"partial_unexpected_list\": [],\n",
       "    \"missing_count\": 0,\n",
       "    \"missing_percent\": 0.0,\n",
       "    \"unexpected_percent_total\": 0.0,\n",
       "    \"unexpected_percent_nonmissing\": 0.0\n",
       "  },\n",
       "  \"meta\": {},\n",
       "  \"exception_info\": {\n",
       "    \"raised_exception\": false,\n",
       "    \"exception_traceback\": null,\n",
       "    \"exception_message\": null\n",
       "  }\n",
       "}"
      ]
     },
     "execution_count": 27,
     "metadata": {},
     "output_type": "execute_result"
    }
   ],
   "source": [
    "validator.expect_column_values_to_be_in_set(column=\"fruit\", value_set=[\"apple\", \"banana\", \"grapefruit\"])"
   ]
  },
  {
   "cell_type": "code",
   "execution_count": 28,
   "id": "83ad2a15-0fd4-4284-baaf-e7151bcdcc96",
   "metadata": {},
   "outputs": [],
   "source": [
    "validator.save_expectation_suite()"
   ]
  },
  {
   "cell_type": "markdown",
   "id": "830b3180-a4c0-4487-889b-04db3c7db4a1",
   "metadata": {},
   "source": [
    "# Wrap everything in a Checkpoint"
   ]
  },
  {
   "cell_type": "code",
   "execution_count": 29,
   "id": "84758ce6-0e0e-4569-af72-9854f6bdacf8",
   "metadata": {},
   "outputs": [],
   "source": [
    "checkpoint =  context.add_or_update_checkpoint(name=\"example checkpoint\", validator=validator)"
   ]
  },
  {
   "cell_type": "code",
   "execution_count": 30,
   "id": "1d73f17d-8652-45a0-a7f4-db127b3a073e",
   "metadata": {},
   "outputs": [
    {
     "data": {
      "application/vnd.jupyter.widget-view+json": {
       "model_id": "12b19f3d528b498cb02bf3a9439d6508",
       "version_major": 2,
       "version_minor": 0
      },
      "text/plain": [
       "Calculating Metrics:   0%|          | 0/10 [00:00<?, ?it/s]"
      ]
     },
     "metadata": {},
     "output_type": "display_data"
    }
   ],
   "source": [
    "result = checkpoint.run()"
   ]
  },
  {
   "cell_type": "code",
   "execution_count": 31,
   "id": "b6748cfb",
   "metadata": {},
   "outputs": [
    {
     "data": {
      "text/plain": [
       "True"
      ]
     },
     "execution_count": 31,
     "metadata": {},
     "output_type": "execute_result"
    }
   ],
   "source": [
    "result[\"success\"]"
   ]
  },
  {
   "cell_type": "code",
   "execution_count": 33,
   "id": "da20f313",
   "metadata": {},
   "outputs": [
    {
     "name": "stdout",
     "output_type": "stream",
     "text": [
      "Opening in existing browser session.\n"
     ]
    }
   ],
   "source": [
    "context.open_data_docs()"
   ]
  },
  {
   "cell_type": "code",
   "execution_count": null,
   "id": "59ffaedc",
   "metadata": {},
   "outputs": [],
   "source": []
  }
 ],
 "metadata": {
  "kernelspec": {
   "display_name": "Python 3 (ipykernel)",
   "language": "python",
   "name": "python3"
  },
  "language_info": {
   "codemirror_mode": {
    "name": "ipython",
    "version": 3
   },
   "file_extension": ".py",
   "mimetype": "text/x-python",
   "name": "python",
   "nbconvert_exporter": "python",
   "pygments_lexer": "ipython3",
   "version": "3.10.13"
  }
 },
 "nbformat": 4,
 "nbformat_minor": 5
}
